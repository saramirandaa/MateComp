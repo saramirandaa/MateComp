{
 "cells": [
  {
   "cell_type": "code",
   "execution_count": 8,
   "metadata": {},
   "outputs": [],
   "source": [
    "#Se inicializan las variables para las cuales queremos saber el MCD\n",
    "a = 56\n",
    "b = 98"
   ]
  },
  {
   "cell_type": "code",
   "execution_count": 4,
   "metadata": {},
   "outputs": [],
   "source": [
    "# c, d serán igual al valos absoluto de a y b respectivamente\n",
    "c, d = abs(a), abs(b)\n",
    "# Aquí se inicializan los valores que representan los coeficientes 𝒔 y 𝒕 \n",
    "# correspondiente al MCD pero de la primera iteración\n",
    "c1, d1 = 1, 0\n",
    "# Segunda iteracaión\n",
    "c2, d2 = 0, 1"
   ]
  },
  {
   "cell_type": "code",
   "execution_count": 5,
   "metadata": {},
   "outputs": [],
   "source": [
    "# mientras de no sea cero, comienza nuestro ciclo\n",
    "# dentro del ciclo Se calcula el cociente 𝒒 y el residuo 𝒓 de la división de 𝒄 entre 𝒅. \n",
    "# Después de ello, se calculan los nuevos valores de 𝒓𝟏 y 𝒓𝟐 \n",
    "# restando 𝒒 ∗ 𝒅𝟏 y 𝒒 ∗ 𝒅𝟐a 𝒄𝟏 y𝒄𝟐, respectivamente.\n",
    "while d != 0:\n",
    "    q, r = divmod(c, d)\n",
    "    c, d = d, r\n",
    "    c1, c2 = c2, c1 - q * c2\n",
    "    d1, d2 = d2, d1 - q * d2\n"
   ]
  },
  {
   "cell_type": "code",
   "execution_count": 12,
   "metadata": {},
   "outputs": [
    {
     "name": "stdout",
     "output_type": "stream",
     "text": [
      "s: 2.0  t: -1.0\n",
      "MCD: 14\n"
     ]
    }
   ],
   "source": [
    "# Se calculan los coeficientes 𝒔 y 𝒕 .𝒔 = 𝒄𝟏/( 𝒔𝒈𝒏(𝒂) ∗ 𝒔𝒈𝒏(𝒄)), donde 𝒔𝒈𝒏(𝒂) es la función que devuelve el signo \n",
    "# de a (1 si a es positivo, -1 si es negativo o 0 si es cero) y 𝒕 = 𝒄𝟐/ (𝒔𝒈 𝒏 𝒃 ∗ 𝒔𝒈 𝒏 𝒄 )\n",
    "\n",
    "def sgn(x):\n",
    "    return (x > 0) - (x < 0)\n",
    "\n",
    "s = c1 / (sgn(a) * sgn(c))\n",
    "t = d1 / (sgn(b) * sgn(c))\n",
    "print (\"s:\", s,\" t:\", t)\n",
    "print (\"MCD:\", c)"
   ]
  }
 ],
 "metadata": {
  "kernelspec": {
   "display_name": "env_name",
   "language": "python",
   "name": "python3"
  },
  "language_info": {
   "codemirror_mode": {
    "name": "ipython",
    "version": 3
   },
   "file_extension": ".py",
   "mimetype": "text/x-python",
   "name": "python",
   "nbconvert_exporter": "python",
   "pygments_lexer": "ipython3",
   "version": "3.9.17"
  }
 },
 "nbformat": 4,
 "nbformat_minor": 2
}

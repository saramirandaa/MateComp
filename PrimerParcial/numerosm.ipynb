{
 "cells": [
  {
   "cell_type": "code",
   "execution_count": 4,
   "id": "33ec758b",
   "metadata": {},
   "outputs": [
    {
     "name": "stdout",
     "output_type": "stream",
     "text": [
      "[2, 3, 5, 7, 11, 13, 17, 19, 23, 29, 31, 37, 41, 43, 47, 53, 59, 61, 67, 71, 73, 79, 83, 89, 97]\n",
      "[3, 7, 31, 127, 2047, 8191, 131071, 524287, 8388607, 536870911, 2147483647, 137438953471, 2199023255551, 8796093022207, 140737488355327, 9007199254740991, 576460752303423487, 2305843009213693951, 147573952589676412927, 2361183241434822606847, 9444732965739290427391, 604462909807314587353087, 9671406556917033397649407, 618970019642690137449562111, 158456325028528675187087900671]\n"
     ]
    }
   ],
   "source": [
    "primes = []\n",
    "messene_prime = []\n",
    "number = 0\n",
    "\n",
    "def es_primo(numero):\n",
    "    if numero <= 1:\n",
    "        return False\n",
    "    if numero <= 3:\n",
    "        return True\n",
    "    if numero % 2 == 0 or (numero % 3 == 0 and numero != 3):\n",
    "        return False\n",
    "    i = 5\n",
    "    while i * i <= numero:\n",
    "        if numero % i == 0 or numero % (i + 2) == 0:\n",
    "            return False\n",
    "        i += 6\n",
    "    return True\n",
    "\n",
    "for i in range(100):\n",
    "    if i == 2 or (i >= 2 and i % 2 == 1 and es_primo(i)):\n",
    "        primes.append(i)\n",
    "print(primes)\n",
    "\n",
    "for x in primes:\n",
    "    number = 2**(x)-1\n",
    "    messene_prime.append(number)\n",
    "    \n",
    "print([2**(x)-1 for x in primes])\n"
   ]
  },
  {
   "cell_type": "code",
   "execution_count": null,
   "id": "8a45e33a",
   "metadata": {},
   "outputs": [],
   "source": []
  },
  {
   "cell_type": "code",
   "execution_count": null,
   "id": "2b8a0136",
   "metadata": {},
   "outputs": [],
   "source": []
  }
 ],
 "metadata": {
  "kernelspec": {
   "display_name": "Python 3 (ipykernel)",
   "language": "python",
   "name": "python3"
  },
  "language_info": {
   "codemirror_mode": {
    "name": "ipython",
    "version": 3
   },
   "file_extension": ".py",
   "mimetype": "text/x-python",
   "name": "python",
   "nbconvert_exporter": "python",
   "pygments_lexer": "ipython3",
   "version": "3.11.3"
  }
 },
 "nbformat": 4,
 "nbformat_minor": 5
}
